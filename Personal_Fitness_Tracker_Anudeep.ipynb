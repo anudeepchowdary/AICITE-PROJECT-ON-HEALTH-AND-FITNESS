{
  "nbformat": 4,
  "nbformat_minor": 0,
  "metadata": {
    "colab": {
      "provenance": [],
      "authorship_tag": "ABX9TyO2f1y2fAaTRWqVXFcX85Em",
      "include_colab_link": true
    },
    "kernelspec": {
      "name": "python3",
      "display_name": "Python 3"
    },
    "language_info": {
      "name": "python"
    }
  },
  "cells": [
    {
      "cell_type": "markdown",
      "metadata": {
        "id": "view-in-github",
        "colab_type": "text"
      },
      "source": [
        "<a href=\"https://colab.research.google.com/github/anudeepchowdary/AICITE-PROJECT-ON-HEALTH-AND-FITNESS/blob/main/Personal_Fitness_Tracker_Anudeep.ipynb\" target=\"_parent\"><img src=\"https://colab.research.google.com/assets/colab-badge.svg\" alt=\"Open In Colab\"/></a>"
      ]
    },
    {
      "cell_type": "code",
      "execution_count": 1,
      "metadata": {
        "colab": {
          "base_uri": "https://localhost:8080/"
        },
        "id": "x4ftOaA7vTGj",
        "outputId": "dd78f683-aca2-4f70-e884-1db816d58b34"
      },
      "outputs": [
        {
          "output_type": "stream",
          "name": "stdout",
          "text": [
            "\u001b[31mERROR: Could not open requirements file: [Errno 2] No such file or directory: 'requirements.txt'\u001b[0m\u001b[31m\n",
            "\u001b[0m"
          ]
        }
      ],
      "source": [
        "pip install -r requirements.txt"
      ]
    },
    {
      "cell_type": "code",
      "source": [
        "import csv\n",
        "\n",
        "# Create empty CSV files with headers\n",
        "metrics = ['steps', 'water', 'sleep', 'calories']\n",
        "\n",
        "for metric in metrics:\n",
        "    with open(f'{metric}.csv', 'w', newline='') as file:\n",
        "        writer = csv.writer(file)\n",
        "        writer.writerow(['date', 'value'])\n",
        "print(\"Sample CSV files created.\")\n"
      ],
      "metadata": {
        "colab": {
          "base_uri": "https://localhost:8080/"
        },
        "id": "VhkVRBy_vbC0",
        "outputId": "bfa13858-dde8-4440-d19d-d9acaf8d659b"
      },
      "execution_count": 2,
      "outputs": [
        {
          "output_type": "stream",
          "name": "stdout",
          "text": [
            "Sample CSV files created.\n"
          ]
        }
      ]
    }
  ]
}