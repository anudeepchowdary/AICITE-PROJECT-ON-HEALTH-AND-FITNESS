{
  "nbformat": 4,
  "nbformat_minor": 0,
  "metadata": {
    "colab": {
      "provenance": [],
      "authorship_tag": "ABX9TyPOk0p/p1XH6PpLJI6Q8g55",
      "include_colab_link": true
    },
    "kernelspec": {
      "name": "python3",
      "display_name": "Python 3"
    },
    "language_info": {
      "name": "python"
    }
  },
  "cells": [
    {
      "cell_type": "markdown",
      "metadata": {
        "id": "view-in-github",
        "colab_type": "text"
      },
      "source": [
        "<a href=\"https://colab.research.google.com/github/anudeepchowdary/AICITE-PROJECT-ON-HEALTH-AND-FITNESS/blob/main/Personal_Fitness_Tracker_Anudeep.ipynb\" target=\"_parent\"><img src=\"https://colab.research.google.com/assets/colab-badge.svg\" alt=\"Open In Colab\"/></a>"
      ]
    },
    {
      "cell_type": "code",
      "execution_count": null,
      "metadata": {
        "colab": {
          "base_uri": "https://localhost:8080/"
        },
        "id": "x4ftOaA7vTGj",
        "outputId": "dd78f683-aca2-4f70-e884-1db816d58b34"
      },
      "outputs": [
        {
          "output_type": "stream",
          "name": "stdout",
          "text": [
            "\u001b[31mERROR: Could not open requirements file: [Errno 2] No such file or directory: 'requirements.txt'\u001b[0m\u001b[31m\n",
            "\u001b[0m"
          ]
        }
      ],
      "source": [
        "pip install -r requirements.txt"
      ]
    },
    {
      "cell_type": "code",
      "source": [
        "import csv\n",
        "\n",
        "# Create empty CSV files with headers\n",
        "metrics = ['steps', 'water', 'sleep', 'calories']\n",
        "\n",
        "for metric in metrics:\n",
        "    with open(f'{metric}.csv', 'w', newline='') as file:\n",
        "        writer = csv.writer(file)\n",
        "        writer.writerow(['date', 'value'])\n",
        "print(\"Sample CSV files created.\")\n"
      ],
      "metadata": {
        "colab": {
          "base_uri": "https://localhost:8080/"
        },
        "id": "VhkVRBy_vbC0",
        "outputId": "bfa13858-dde8-4440-d19d-d9acaf8d659b"
      },
      "execution_count": null,
      "outputs": [
        {
          "output_type": "stream",
          "name": "stdout",
          "text": [
            "Sample CSV files created.\n"
          ]
        }
      ]
    },
    {
      "cell_type": "code",
      "source": [
        "import csv\n",
        "from datetime import datetime\n",
        "import matplotlib.pyplot as plt\n",
        "\n",
        "def log_data(metric, value):\n",
        "    date = datetime.now().strftime(\"%Y-%m-%d\")\n",
        "    with open(f\"{metric}.csv\", mode='a', newline='') as file:\n",
        "        writer = csv.writer(file)\n",
        "        writer.writerow([date, value])\n",
        "    print(f\"{metric.capitalize()} for {date} logged successfully!\")\n",
        "\n",
        "def view_data(metric):\n",
        "    try:\n",
        "        with open(f\"{metric}.csv\", mode='r') as file:\n",
        "            reader = csv.reader(file)\n",
        "            for row in reader:\n",
        "                print(f\"{row[0]}: {row[1]}\")\n",
        "    except FileNotFoundError:\n",
        "        print(\"No data found!\")\n",
        "\n",
        "def plot_data(metric):\n",
        "    try:\n",
        "        dates, values = [], []\n",
        "        with open(f\"{metric}.csv\", mode='r') as file:\n",
        "            reader = csv.reader(file)\n",
        "            next(reader)  # Skip the header row\n",
        "            for row in reader:\n",
        "                dates.append(row[0])\n",
        "                values.append(float(row[1]))\n",
        "        plt.plot(dates, values, marker='o')\n",
        "        plt.title(f\"{metric.capitalize()} Over Time\")\n",
        "        plt.xlabel(\"Date\")\n",
        "        plt.ylabel(metric.capitalize())\n",
        "        plt.xticks(rotation=45)\n",
        "        plt.tight_layout()\n",
        "        plt.show()\n",
        "    except FileNotFoundError:\n",
        "        print(\"No data to plot!\")\n",
        "\n",
        "# Example usage:\n",
        "log_data('steps', 5000)\n",
        "log_data('water', 2.5)\n",
        "view_data('steps')\n",
        "plot_data('steps')"
      ],
      "metadata": {
        "colab": {
          "base_uri": "https://localhost:8080/",
          "height": 539
        },
        "id": "-gu8U0HDBZHY",
        "outputId": "08add300-0ce0-407b-f1e0-ce362d409895"
      },
      "execution_count": 1,
      "outputs": [
        {
          "output_type": "stream",
          "name": "stdout",
          "text": [
            "Steps for 2025-04-20 logged successfully!\n",
            "Water for 2025-04-20 logged successfully!\n",
            "2025-04-20: 5000\n"
          ]
        },
        {
          "output_type": "display_data",
          "data": {
            "text/plain": [
              "<Figure size 640x480 with 1 Axes>"
            ],
            "image/png": "[encoded data removed]"
          },
          "metadata": {}
        }
      ]
    }
  ]
}